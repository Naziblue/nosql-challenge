{
 "cells": [
  {
   "cell_type": "markdown",
   "id": "9a57c4c6",
   "metadata": {},
   "source": [
    "# Eat Safe, Love"
   ]
  },
  {
   "cell_type": "markdown",
   "id": "064ef857",
   "metadata": {},
   "source": [
    "## Part 1: Database and Jupyter Notebook Set Up"
   ]
  },
  {
   "cell_type": "markdown",
   "id": "664e3c1f",
   "metadata": {},
   "source": [
    "Import the data provided in the `establishments.json` file from your Terminal. Name the database `uk_food` and the collection `establishments`.\n",
    "\n",
    "Within this markdown cell, copy the line of text you used to import the data from your Terminal. This way, future analysts will be able to repeat your process.\n",
    "\n",
    "e.g.: Import the dataset with `YOUR IMPORT TEXT HERE`"
   ]
  },
  {
   "cell_type": "code",
   "execution_count": 1,
   "id": "3ecdd008",
   "metadata": {},
   "outputs": [],
   "source": [
    "# Import dependencies\n",
    "from pymongo import MongoClient\n",
    "from pprint import pprint"
   ]
  },
  {
   "cell_type": "code",
   "execution_count": 7,
   "id": "59390c4a",
   "metadata": {},
   "outputs": [],
   "source": [
    "# Create an instance of MongoClient\n",
    "mongo = MongoClient(port=27017)"
   ]
  },
  {
   "cell_type": "code",
   "execution_count": 8,
   "id": "7f9ececa",
   "metadata": {},
   "outputs": [
    {
     "name": "stdout",
     "output_type": "stream",
     "text": [
      "The database 'uk_food' exists.\n"
     ]
    }
   ],
   "source": [
    "# confirm that our new database was created\n",
    "db_name ='uk_food'\n",
    "db_list = mongo.list_database_names()\n",
    "if db_name in db_list:\n",
    "    print(f\"The database '{db_name}' exists.\")\n",
    "else:\n",
    "    print(f\"The database '{db_name}' does not exist.\")"
   ]
  },
  {
   "cell_type": "code",
   "execution_count": 9,
   "id": "71e373c1",
   "metadata": {},
   "outputs": [],
   "source": [
    "# assign the uk_food database to a variable name\n",
    "db = mongo['uk_food']"
   ]
  },
  {
   "cell_type": "code",
   "execution_count": 10,
   "id": "ef1b89ed",
   "metadata": {},
   "outputs": [],
   "source": [
    "# review the collections in our new database\n",
    "collections = db.list_collection_names()"
   ]
  },
  {
   "cell_type": "code",
   "execution_count": 13,
   "id": "18ab463c",
   "metadata": {},
   "outputs": [
    {
     "name": "stdout",
     "output_type": "stream",
     "text": [
      "Collections in uk_food: establishments\n"
     ]
    }
   ],
   "source": [
    "# review the collections in our new database\n",
    "print(f\"Collections in {db.name}: {', '.join(collections)}\")\n",
    "collection = db[\"establishments\"]"
   ]
  },
  {
   "cell_type": "code",
   "execution_count": 16,
   "id": "6a0d92df",
   "metadata": {},
   "outputs": [
    {
     "name": "stdout",
     "output_type": "stream",
     "text": [
      "{'AddressLine1': 'The Bay',\n",
      " 'AddressLine2': 'St Margarets Bay',\n",
      " 'AddressLine3': 'Kent',\n",
      " 'AddressLine4': '',\n",
      " 'BusinessName': 'Refreshment Kiosk',\n",
      " 'BusinessType': 'Restaurant/Cafe/Canteen',\n",
      " 'BusinessTypeID': 1,\n",
      " 'ChangesByServerID': 0,\n",
      " 'Distance': 4587.347174863443,\n",
      " 'FHRSID': 254719,\n",
      " 'LocalAuthorityBusinessID': 'PI/000069980',\n",
      " 'LocalAuthorityCode': '182',\n",
      " 'LocalAuthorityEmailAddress': 'publicprotection@dover.gov.uk',\n",
      " 'LocalAuthorityName': 'Dover',\n",
      " 'LocalAuthorityWebSite': 'http://www.dover.gov.uk/',\n",
      " 'NewRatingPending': False,\n",
      " 'Phone': '',\n",
      " 'PostCode': 'CT15 6DY',\n",
      " 'RatingDate': '2022-03-24T00:00:00',\n",
      " 'RatingKey': 'fhrs_5_en-gb',\n",
      " 'RatingValue': '5',\n",
      " 'RightToReply': '',\n",
      " 'SchemeType': 'FHRS',\n",
      " '_id': ObjectId('64adf9cb9739be3ee6706119'),\n",
      " 'geocode': {'latitude': '51.152225', 'longitude': '1.387974'},\n",
      " 'links': [{'href': 'https://api.ratings.food.gov.uk/establishments/254719',\n",
      "            'rel': 'self'}],\n",
      " 'meta': {'dataSource': None,\n",
      "          'extractDate': '0001-01-01T00:00:00',\n",
      "          'itemCount': 0,\n",
      "          'pageNumber': 0,\n",
      "          'pageSize': 0,\n",
      "          'returncode': None,\n",
      "          'totalCount': 0,\n",
      "          'totalPages': 0},\n",
      " 'scores': {'ConfidenceInManagement': 5, 'Hygiene': 0, 'Structural': 5}}\n"
     ]
    }
   ],
   "source": [
    "# review a document in the establishments collection\n",
    "document = collection.find_one()\n",
    "pprint(document)"
   ]
  },
  {
   "cell_type": "code",
   "execution_count": 15,
   "id": "11c9f11b",
   "metadata": {},
   "outputs": [],
   "source": [
    "# assign the collection to a variable\n",
    "establishments = db['establishments']"
   ]
  },
  {
   "cell_type": "markdown",
   "id": "d5671434",
   "metadata": {},
   "source": [
    "## Part 2: Update the Database"
   ]
  },
  {
   "cell_type": "markdown",
   "id": "314bd884",
   "metadata": {},
   "source": [
    "1. An exciting new halal restaurant just opened in Greenwich, but hasn't been rated yet. The magazine has asked you to include it in your analysis. Add the following restaurant \"Penang Flavours\" to the database."
   ]
  },
  {
   "cell_type": "code",
   "execution_count": 17,
   "id": "c2da7648",
   "metadata": {},
   "outputs": [],
   "source": [
    "# Create a dictionary for the new restaurant data\n",
    "new_restaurant = {\n",
    "    'AddressLine1': 'Greenwich',\n",
    "    \"BusinessName\": \"Penang Flavours\",\n",
    "    \"BusinessType\": \"Restaurant/Cafe/Canteen\",\n",
    "}\n"
   ]
  },
  {
   "cell_type": "code",
   "execution_count": 18,
   "id": "a6e5cece",
   "metadata": {},
   "outputs": [],
   "source": [
    "# Insert the new restaurant into the collection\n",
    "result = collection.insert_one(new_restaurant)"
   ]
  },
  {
   "cell_type": "code",
   "execution_count": 19,
   "id": "63bb10f9",
   "metadata": {},
   "outputs": [
    {
     "name": "stdout",
     "output_type": "stream",
     "text": [
      "Successfully inserted new restaurant. ID: 64adfc6bf1194270b493870d\n"
     ]
    }
   ],
   "source": [
    "# Check that the new restaurant was inserted\n",
    "if result.acknowledged:\n",
    "    print(f\"Successfully inserted new restaurant. ID: {result.inserted_id}\")\n",
    "else:\n",
    "    print(\"Failed to insert new restaurant.\")\n"
   ]
  },
  {
   "cell_type": "markdown",
   "id": "0ef4395a",
   "metadata": {},
   "source": [
    "2. Find the BusinessTypeID for \"Restaurant/Cafe/Canteen\" and return only the `BusinessTypeID` and `BusinessType` fields."
   ]
  },
  {
   "cell_type": "code",
   "execution_count": 25,
   "id": "93c63829",
   "metadata": {},
   "outputs": [
    {
     "name": "stdout",
     "output_type": "stream",
     "text": [
      "{'_id': ObjectId('64adf9cb9739be3ee6706119'), 'BusinessType': 'Restaurant/Cafe/Canteen', 'BusinessTypeID': 1}\n"
     ]
    },
    {
     "data": {
      "text/plain": [
       "1"
      ]
     },
     "execution_count": 25,
     "metadata": {},
     "output_type": "execute_result"
    }
   ],
   "source": [
    "# Find the BusinessTypeID for \"Restaurant/Cafe/Canteen\" and return only the BusinessTypeID and BusinessType fields\n",
    "document = collection.find_one(\n",
    "    {\"BusinessType\": \"Restaurant/Cafe/Canteen\"},\n",
    "    {\"BusinessTypeID\": 1, \"BusinessType\": 1}  \n",
    ")\n",
    "print(document)\n",
    "business_type_id = document['BusinessTypeID']\n",
    "business_type_id\n"
   ]
  },
  {
   "cell_type": "markdown",
   "id": "4e570caf",
   "metadata": {},
   "source": [
    "3. Update the new restaurant with the `BusinessTypeID` you found."
   ]
  },
  {
   "cell_type": "code",
   "execution_count": 26,
   "id": "7f599f3d",
   "metadata": {},
   "outputs": [],
   "source": [
    "# Update the new restaurant with the correct BusinessTypeID\n",
    "result = collection.update_one(\n",
    "    {\"BusinessName\": \"Penang Flavours\"}, \n",
    "    {\"$set\": {\"BusinessTypeID\": business_type_id}}\n",
    ")"
   ]
  },
  {
   "cell_type": "code",
   "execution_count": 27,
   "id": "a6ad16f7",
   "metadata": {},
   "outputs": [
    {
     "name": "stdout",
     "output_type": "stream",
     "text": [
      "Updated restaurant: Matched 1 docs, Modified 1 docs\n"
     ]
    }
   ],
   "source": [
    "# Confirm that the new restaurant was updated\n",
    "if result.acknowledged:\n",
    "    print(f\"Updated restaurant: Matched {result.matched_count} docs, Modified {result.modified_count} docs\")\n",
    "else:\n",
    "    print(\"Failed to update restaurant.\")\n"
   ]
  },
  {
   "cell_type": "code",
   "execution_count": 29,
   "id": "2164ceed",
   "metadata": {},
   "outputs": [
    {
     "name": "stdout",
     "output_type": "stream",
     "text": [
      "{'AddressLine1': 'Greenwich',\n",
      " 'BusinessName': 'Penang Flavours',\n",
      " 'BusinessType': 'Restaurant/Cafe/Canteen',\n",
      " 'BusinessTypeID': 1,\n",
      " '_id': ObjectId('64adfc6bf1194270b493870d')}\n"
     ]
    }
   ],
   "source": [
    "updated_restaurant = collection.find_one({\"BusinessName\": \"Penang Flavours\"})\n",
    "pprint(updated_restaurant)"
   ]
  },
  {
   "cell_type": "markdown",
   "id": "67281254",
   "metadata": {},
   "source": [
    "4. The magazine is not interested in any establishments in Dover, so check how many documents contain the Dover Local Authority. Then, remove any establishments within the Dover Local Authority from the database, and check the number of documents to ensure they were deleted."
   ]
  },
  {
   "cell_type": "code",
   "execution_count": 30,
   "id": "768474a6",
   "metadata": {},
   "outputs": [
    {
     "name": "stdout",
     "output_type": "stream",
     "text": [
      "Initial count of Dover establishments: 994\n"
     ]
    }
   ],
   "source": [
    "# Find how many documents have LocalAuthorityName as \"Dover\"\n",
    "initial_count = collection.count_documents({\"LocalAuthorityName\": \"Dover\"})\n",
    "print(f\"Initial count of Dover establishments: {initial_count}\")\n",
    "\n"
   ]
  },
  {
   "cell_type": "code",
   "execution_count": 31,
   "id": "a11d5f1b",
   "metadata": {},
   "outputs": [],
   "source": [
    "# Delete all documents where LocalAuthorityName is \"Dover\"\n",
    "delete_result = collection.delete_many({\"LocalAuthorityName\": \"Dover\"})\n"
   ]
  },
  {
   "cell_type": "code",
   "execution_count": 32,
   "id": "2a51aba0",
   "metadata": {},
   "outputs": [
    {
     "name": "stdout",
     "output_type": "stream",
     "text": [
      "Final count of Dover establishments: 0\n"
     ]
    }
   ],
   "source": [
    "# Check if any remaining documents include Dover\n",
    "final_count = collection.count_documents({\"LocalAuthorityName\": \"Dover\"})\n",
    "print(f\"Final count of Dover establishments: {final_count}\")"
   ]
  },
  {
   "cell_type": "code",
   "execution_count": 46,
   "id": "8c356f7b",
   "metadata": {},
   "outputs": [
    {
     "name": "stdout",
     "output_type": "stream",
     "text": [
      "{'BusinessName': 'The Pavilion',\n",
      " 'LocalAuthorityName': 'Folkestone and Hythe',\n",
      " '_id': ObjectId('64adf9cb9739be3ee6706400')}\n"
     ]
    }
   ],
   "source": [
    "# Check that other documents remain with 'find_one'\n",
    "document = collection.find_one({},[\"BusinessName\", \"LocalAuthorityName\"])\n",
    "pprint(document)"
   ]
  },
  {
   "attachments": {},
   "cell_type": "markdown",
   "id": "e9f1662d",
   "metadata": {},
   "source": [
    "5. Some of the number values are stored as strings, when they should be stored as numbers."
   ]
  },
  {
   "attachments": {},
   "cell_type": "markdown",
   "id": "c46df2df",
   "metadata": {},
   "source": [
    "Use `update_many` to convert `latitude` and `longitude` to decimal numbers."
   ]
  },
  {
   "cell_type": "code",
   "execution_count": 42,
   "id": "fd4112ce",
   "metadata": {},
   "outputs": [
    {
     "data": {
      "text/plain": [
       "<pymongo.results.UpdateResult at 0x22a88170480>"
      ]
     },
     "execution_count": 42,
     "metadata": {},
     "output_type": "execute_result"
    }
   ],
   "source": [
    "establishments.update_many({}, [{'$set': {\"geocode.latitude\": {'$toDouble': \"$geocode.latitude\"},\n",
    "                                          \"geocode.longitude\": {'$toDouble': \"$geocode.longitude\"}\n",
    "                                          } \n",
    "                                 }]\n",
    "                           )"
   ]
  },
  {
   "attachments": {},
   "cell_type": "markdown",
   "id": "142e319c",
   "metadata": {},
   "source": [
    "Use `update_many` to convert `RatingValue` to integer numbers."
   ]
  },
  {
   "cell_type": "code",
   "execution_count": 43,
   "id": "04430a5b",
   "metadata": {},
   "outputs": [
    {
     "data": {
      "text/plain": [
       "<pymongo.results.UpdateResult at 0x22a88145e80>"
      ]
     },
     "execution_count": 43,
     "metadata": {},
     "output_type": "execute_result"
    }
   ],
   "source": [
    "# Set non 1-5 Rating Values to Null\n",
    "non_ratings = [\"AwaitingInspection\", \"Awaiting Inspection\", \"AwaitingPublication\", \"Pass\", \"Exempt\"]\n",
    "establishments.update_many({\"RatingValue\": {\"$in\": non_ratings}}, [ {'$set':{ \"RatingValue\" : None}} ])"
   ]
  },
  {
   "cell_type": "code",
   "execution_count": 44,
   "id": "92524ccc",
   "metadata": {},
   "outputs": [
    {
     "data": {
      "text/plain": [
       "<pymongo.results.UpdateResult at 0x22a8814db00>"
      ]
     },
     "execution_count": 44,
     "metadata": {},
     "output_type": "execute_result"
    }
   ],
   "source": [
    "# Change the data type from String to Integer for RatingValue\n",
    "establishments.update_many({}, [{\"$set\": {\"RatingValue\": {\"$toInt\": \"$RatingValue\"}}}])\n"
   ]
  },
  {
   "cell_type": "code",
   "execution_count": 45,
   "id": "0deacaf9",
   "metadata": {},
   "outputs": [
    {
     "data": {
      "text/plain": [
       "{'_id': ObjectId('64adf9cb9739be3ee6706400'),\n",
       " 'BusinessName': 'The Pavilion',\n",
       " 'RatingValue': 5,\n",
       " 'geocode': {'longitude': 1.195625, 'latitude': 51.083812}}"
      ]
     },
     "execution_count": 45,
     "metadata": {},
     "output_type": "execute_result"
    }
   ],
   "source": [
    "# Check that the coordinates and rating value are now numbers\n",
    "establishments.find_one({},\n",
    "                        [\"BusinessName\", \"geocode.latitude\", \"geocode.longitude\", \"RatingValue\"])"
   ]
  }
 ],
 "metadata": {
  "kernelspec": {
   "display_name": "PythonData",
   "language": "python",
   "name": "pythondata"
  },
  "language_info": {
   "codemirror_mode": {
    "name": "ipython",
    "version": 3
   },
   "file_extension": ".py",
   "mimetype": "text/x-python",
   "name": "python",
   "nbconvert_exporter": "python",
   "pygments_lexer": "ipython3",
   "version": "3.10.9"
  }
 },
 "nbformat": 4,
 "nbformat_minor": 5
}
